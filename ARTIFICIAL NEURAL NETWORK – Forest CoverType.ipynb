{
 "cells": [
  {
   "cell_type": "code",
   "execution_count": 113,
   "id": "69abf7bb-d42d-41ea-8f0c-a2ca214774c9",
   "metadata": {},
   "outputs": [
    {
     "name": "stdout",
     "output_type": "stream",
     "text": [
      "========== ARTIFICIAL NEURAL NETWORK – Forest CoverType ==========\n",
      "\n"
     ]
    }
   ],
   "source": [
    "print(\"========== ARTIFICIAL NEURAL NETWORK – Forest CoverType ==========\\n\")\n",
    "\n",
    "# ------------------------------------------------------------------------------------\n",
    "# CONTEXT:\n",
    "# You are tasked with designing, training, and evaluating a deep Artificial Neural Network\n",
    "# for a multi-class classification problem using the Forest CoverType dataset.\n",
    "# This dataset contains 581,012 observations and 54 features. The objective is to classify\n",
    "# each observation into one of 7 forest cover types.\n",
    "# ------------------------------------------------------------------------------------"
   ]
  },
  {
   "cell_type": "code",
   "execution_count": 34,
   "id": "76998904-9112-438c-939e-0f617ccaec84",
   "metadata": {},
   "outputs": [
    {
     "name": "stdout",
     "output_type": "stream",
     "text": [
      "Step 1: Dataset Acquisition\n",
      "Shape of input X: (581012, 54)\n",
      "Shape of target y: (581012, 1)\n",
      "----------\n",
      "Number of unique target classes\n"
     ]
    },
    {
     "data": {
      "text/plain": [
       "target\n",
       "2         283301\n",
       "1         211840\n",
       "3          35754\n",
       "7          20510\n",
       "6          17367\n",
       "5           9493\n",
       "4           2747\n",
       "Name: count, dtype: int64"
      ]
     },
     "execution_count": 34,
     "metadata": {},
     "output_type": "execute_result"
    }
   ],
   "source": [
    "# ====================================================================================\n",
    "# SECTION A – DATA HANDLING\n",
    "# ====================================================================================\n",
    "\n",
    "print(\"Step 1: Dataset Acquisition\")\n",
    "\n",
    "# Q1.1 Load the CoverType dataset from sklearn.datasets. \n",
    "from sklearn.datasets import fetch_covtype\n",
    "import pandas as pd\n",
    "#        - Assign the features to variable X and target to variable y.\n",
    "#        - Display the shapes of X and y.\n",
    "#        - Display the number of unique target classes.\n",
    "\n",
    "data = fetch_covtype()\n",
    "X = pd.DataFrame(data.data, columns=data.feature_names)\n",
    "y = pd.DataFrame(data.target, columns=['target'])\n",
    "\n",
    "print(\"Shape of input X:\",X.shape)\n",
    "print(\"Shape of target y:\",y.shape)\n",
    "\n",
    "print('----------\\nNumber of unique target classes')\n",
    "y.value_counts()"
   ]
  },
  {
   "cell_type": "code",
   "execution_count": 36,
   "id": "c870725a-734f-474b-b5bb-03afbb58ff33",
   "metadata": {},
   "outputs": [
    {
     "name": "stdout",
     "output_type": "stream",
     "text": [
      "<class 'pandas.core.frame.DataFrame'>\n",
      "RangeIndex: 581012 entries, 0 to 581011\n",
      "Data columns (total 54 columns):\n",
      " #   Column                              Non-Null Count   Dtype  \n",
      "---  ------                              --------------   -----  \n",
      " 0   Elevation                           581012 non-null  float64\n",
      " 1   Aspect                              581012 non-null  float64\n",
      " 2   Slope                               581012 non-null  float64\n",
      " 3   Horizontal_Distance_To_Hydrology    581012 non-null  float64\n",
      " 4   Vertical_Distance_To_Hydrology      581012 non-null  float64\n",
      " 5   Horizontal_Distance_To_Roadways     581012 non-null  float64\n",
      " 6   Hillshade_9am                       581012 non-null  float64\n",
      " 7   Hillshade_Noon                      581012 non-null  float64\n",
      " 8   Hillshade_3pm                       581012 non-null  float64\n",
      " 9   Horizontal_Distance_To_Fire_Points  581012 non-null  float64\n",
      " 10  Wilderness_Area_0                   581012 non-null  float64\n",
      " 11  Wilderness_Area_1                   581012 non-null  float64\n",
      " 12  Wilderness_Area_2                   581012 non-null  float64\n",
      " 13  Wilderness_Area_3                   581012 non-null  float64\n",
      " 14  Soil_Type_0                         581012 non-null  float64\n",
      " 15  Soil_Type_1                         581012 non-null  float64\n",
      " 16  Soil_Type_2                         581012 non-null  float64\n",
      " 17  Soil_Type_3                         581012 non-null  float64\n",
      " 18  Soil_Type_4                         581012 non-null  float64\n",
      " 19  Soil_Type_5                         581012 non-null  float64\n",
      " 20  Soil_Type_6                         581012 non-null  float64\n",
      " 21  Soil_Type_7                         581012 non-null  float64\n",
      " 22  Soil_Type_8                         581012 non-null  float64\n",
      " 23  Soil_Type_9                         581012 non-null  float64\n",
      " 24  Soil_Type_10                        581012 non-null  float64\n",
      " 25  Soil_Type_11                        581012 non-null  float64\n",
      " 26  Soil_Type_12                        581012 non-null  float64\n",
      " 27  Soil_Type_13                        581012 non-null  float64\n",
      " 28  Soil_Type_14                        581012 non-null  float64\n",
      " 29  Soil_Type_15                        581012 non-null  float64\n",
      " 30  Soil_Type_16                        581012 non-null  float64\n",
      " 31  Soil_Type_17                        581012 non-null  float64\n",
      " 32  Soil_Type_18                        581012 non-null  float64\n",
      " 33  Soil_Type_19                        581012 non-null  float64\n",
      " 34  Soil_Type_20                        581012 non-null  float64\n",
      " 35  Soil_Type_21                        581012 non-null  float64\n",
      " 36  Soil_Type_22                        581012 non-null  float64\n",
      " 37  Soil_Type_23                        581012 non-null  float64\n",
      " 38  Soil_Type_24                        581012 non-null  float64\n",
      " 39  Soil_Type_25                        581012 non-null  float64\n",
      " 40  Soil_Type_26                        581012 non-null  float64\n",
      " 41  Soil_Type_27                        581012 non-null  float64\n",
      " 42  Soil_Type_28                        581012 non-null  float64\n",
      " 43  Soil_Type_29                        581012 non-null  float64\n",
      " 44  Soil_Type_30                        581012 non-null  float64\n",
      " 45  Soil_Type_31                        581012 non-null  float64\n",
      " 46  Soil_Type_32                        581012 non-null  float64\n",
      " 47  Soil_Type_33                        581012 non-null  float64\n",
      " 48  Soil_Type_34                        581012 non-null  float64\n",
      " 49  Soil_Type_35                        581012 non-null  float64\n",
      " 50  Soil_Type_36                        581012 non-null  float64\n",
      " 51  Soil_Type_37                        581012 non-null  float64\n",
      " 52  Soil_Type_38                        581012 non-null  float64\n",
      " 53  Soil_Type_39                        581012 non-null  float64\n",
      "dtypes: float64(54)\n",
      "memory usage: 239.4 MB\n"
     ]
    }
   ],
   "source": [
    "X.info()"
   ]
  },
  {
   "cell_type": "code",
   "execution_count": 38,
   "id": "9e20a5ec-2c82-4ad2-87c8-1b14f0dd356c",
   "metadata": {},
   "outputs": [
    {
     "name": "stdout",
     "output_type": "stream",
     "text": [
      "\n",
      "Step 2: Data Preprocessing\n"
     ]
    }
   ],
   "source": [
    "# ====================================================================================\n",
    "# SECTION B – DATA PREPROCESSING\n",
    "# ====================================================================================\n",
    "\n",
    "print(\"\\nStep 2: Data Preprocessing\")\n",
    "\n",
    "# Q2.1 Reshape y appropriately for encoding (if required).\n",
    "# Q2.2 Apply suitable label encoding for the target classes (since sparse categorical loss will be used).\n",
    "# Q2.3 Apply feature scaling to X using StandardScaler.\n",
    "# Q2.4 Split the dataset into training and testing sets using a 75:25 ratio.\n",
    "#        - Print the number of samples in each set.\n",
    "\n",
    "from sklearn.preprocessing import StandardScaler\n",
    "from sklearn.model_selection import train_test_split\n",
    "\n",
    "scaler = StandardScaler()\n",
    "X_sc = scaler.fit_transform(X)\n",
    "\n",
    "X_train, X_test, y_train, y_test = train_test_split(X_sc, y, test_size=0.25, random_state=100)"
   ]
  },
  {
   "cell_type": "code",
   "execution_count": 79,
   "id": "b8842553-053a-4451-a526-3d106d6ef51f",
   "metadata": {},
   "outputs": [
    {
     "name": "stdout",
     "output_type": "stream",
     "text": [
      "\n",
      "Step 3: Model Construction\n"
     ]
    },
    {
     "name": "stderr",
     "output_type": "stream",
     "text": [
      "C:\\Users\\RAJ\\anaconda3\\Lib\\site-packages\\keras\\src\\layers\\core\\dense.py:93: UserWarning: Do not pass an `input_shape`/`input_dim` argument to a layer. When using Sequential models, prefer using an `Input(shape)` object as the first layer in the model instead.\n",
      "  super().__init__(activity_regularizer=activity_regularizer, **kwargs)\n"
     ]
    },
    {
     "data": {
      "text/html": [
       "<pre style=\"white-space:pre;overflow-x:auto;line-height:normal;font-family:Menlo,'DejaVu Sans Mono',consolas,'Courier New',monospace\"><span style=\"font-weight: bold\">Model: \"sequential_3\"</span>\n",
       "</pre>\n"
      ],
      "text/plain": [
       "\u001b[1mModel: \"sequential_3\"\u001b[0m\n"
      ]
     },
     "metadata": {},
     "output_type": "display_data"
    },
    {
     "data": {
      "text/html": [
       "<pre style=\"white-space:pre;overflow-x:auto;line-height:normal;font-family:Menlo,'DejaVu Sans Mono',consolas,'Courier New',monospace\">┏━━━━━━━━━━━━━━━━━━━━━━━━━━━━━━━━━━━━━━┳━━━━━━━━━━━━━━━━━━━━━━━━━━━━━┳━━━━━━━━━━━━━━━━━┓\n",
       "┃<span style=\"font-weight: bold\"> Layer (type)                         </span>┃<span style=\"font-weight: bold\"> Output Shape                </span>┃<span style=\"font-weight: bold\">         Param # </span>┃\n",
       "┡━━━━━━━━━━━━━━━━━━━━━━━━━━━━━━━━━━━━━━╇━━━━━━━━━━━━━━━━━━━━━━━━━━━━━╇━━━━━━━━━━━━━━━━━┩\n",
       "│ dense_9 (<span style=\"color: #0087ff; text-decoration-color: #0087ff\">Dense</span>)                      │ (<span style=\"color: #00d7ff; text-decoration-color: #00d7ff\">None</span>, <span style=\"color: #00af00; text-decoration-color: #00af00\">256</span>)                 │          <span style=\"color: #00af00; text-decoration-color: #00af00\">14,080</span> │\n",
       "├──────────────────────────────────────┼─────────────────────────────┼─────────────────┤\n",
       "│ dropout_4 (<span style=\"color: #0087ff; text-decoration-color: #0087ff\">Dropout</span>)                  │ (<span style=\"color: #00d7ff; text-decoration-color: #00d7ff\">None</span>, <span style=\"color: #00af00; text-decoration-color: #00af00\">256</span>)                 │               <span style=\"color: #00af00; text-decoration-color: #00af00\">0</span> │\n",
       "├──────────────────────────────────────┼─────────────────────────────┼─────────────────┤\n",
       "│ dense_10 (<span style=\"color: #0087ff; text-decoration-color: #0087ff\">Dense</span>)                     │ (<span style=\"color: #00d7ff; text-decoration-color: #00d7ff\">None</span>, <span style=\"color: #00af00; text-decoration-color: #00af00\">128</span>)                 │          <span style=\"color: #00af00; text-decoration-color: #00af00\">32,896</span> │\n",
       "├──────────────────────────────────────┼─────────────────────────────┼─────────────────┤\n",
       "│ dropout_5 (<span style=\"color: #0087ff; text-decoration-color: #0087ff\">Dropout</span>)                  │ (<span style=\"color: #00d7ff; text-decoration-color: #00d7ff\">None</span>, <span style=\"color: #00af00; text-decoration-color: #00af00\">128</span>)                 │               <span style=\"color: #00af00; text-decoration-color: #00af00\">0</span> │\n",
       "├──────────────────────────────────────┼─────────────────────────────┼─────────────────┤\n",
       "│ dense_11 (<span style=\"color: #0087ff; text-decoration-color: #0087ff\">Dense</span>)                     │ (<span style=\"color: #00d7ff; text-decoration-color: #00d7ff\">None</span>, <span style=\"color: #00af00; text-decoration-color: #00af00\">64</span>)                  │           <span style=\"color: #00af00; text-decoration-color: #00af00\">8,256</span> │\n",
       "├──────────────────────────────────────┼─────────────────────────────┼─────────────────┤\n",
       "│ dense_12 (<span style=\"color: #0087ff; text-decoration-color: #0087ff\">Dense</span>)                     │ (<span style=\"color: #00d7ff; text-decoration-color: #00d7ff\">None</span>, <span style=\"color: #00af00; text-decoration-color: #00af00\">8</span>)                   │             <span style=\"color: #00af00; text-decoration-color: #00af00\">520</span> │\n",
       "└──────────────────────────────────────┴─────────────────────────────┴─────────────────┘\n",
       "</pre>\n"
      ],
      "text/plain": [
       "┏━━━━━━━━━━━━━━━━━━━━━━━━━━━━━━━━━━━━━━┳━━━━━━━━━━━━━━━━━━━━━━━━━━━━━┳━━━━━━━━━━━━━━━━━┓\n",
       "┃\u001b[1m \u001b[0m\u001b[1mLayer (type)                        \u001b[0m\u001b[1m \u001b[0m┃\u001b[1m \u001b[0m\u001b[1mOutput Shape               \u001b[0m\u001b[1m \u001b[0m┃\u001b[1m \u001b[0m\u001b[1m        Param #\u001b[0m\u001b[1m \u001b[0m┃\n",
       "┡━━━━━━━━━━━━━━━━━━━━━━━━━━━━━━━━━━━━━━╇━━━━━━━━━━━━━━━━━━━━━━━━━━━━━╇━━━━━━━━━━━━━━━━━┩\n",
       "│ dense_9 (\u001b[38;5;33mDense\u001b[0m)                      │ (\u001b[38;5;45mNone\u001b[0m, \u001b[38;5;34m256\u001b[0m)                 │          \u001b[38;5;34m14,080\u001b[0m │\n",
       "├──────────────────────────────────────┼─────────────────────────────┼─────────────────┤\n",
       "│ dropout_4 (\u001b[38;5;33mDropout\u001b[0m)                  │ (\u001b[38;5;45mNone\u001b[0m, \u001b[38;5;34m256\u001b[0m)                 │               \u001b[38;5;34m0\u001b[0m │\n",
       "├──────────────────────────────────────┼─────────────────────────────┼─────────────────┤\n",
       "│ dense_10 (\u001b[38;5;33mDense\u001b[0m)                     │ (\u001b[38;5;45mNone\u001b[0m, \u001b[38;5;34m128\u001b[0m)                 │          \u001b[38;5;34m32,896\u001b[0m │\n",
       "├──────────────────────────────────────┼─────────────────────────────┼─────────────────┤\n",
       "│ dropout_5 (\u001b[38;5;33mDropout\u001b[0m)                  │ (\u001b[38;5;45mNone\u001b[0m, \u001b[38;5;34m128\u001b[0m)                 │               \u001b[38;5;34m0\u001b[0m │\n",
       "├──────────────────────────────────────┼─────────────────────────────┼─────────────────┤\n",
       "│ dense_11 (\u001b[38;5;33mDense\u001b[0m)                     │ (\u001b[38;5;45mNone\u001b[0m, \u001b[38;5;34m64\u001b[0m)                  │           \u001b[38;5;34m8,256\u001b[0m │\n",
       "├──────────────────────────────────────┼─────────────────────────────┼─────────────────┤\n",
       "│ dense_12 (\u001b[38;5;33mDense\u001b[0m)                     │ (\u001b[38;5;45mNone\u001b[0m, \u001b[38;5;34m8\u001b[0m)                   │             \u001b[38;5;34m520\u001b[0m │\n",
       "└──────────────────────────────────────┴─────────────────────────────┴─────────────────┘\n"
      ]
     },
     "metadata": {},
     "output_type": "display_data"
    },
    {
     "data": {
      "text/html": [
       "<pre style=\"white-space:pre;overflow-x:auto;line-height:normal;font-family:Menlo,'DejaVu Sans Mono',consolas,'Courier New',monospace\"><span style=\"font-weight: bold\"> Total params: </span><span style=\"color: #00af00; text-decoration-color: #00af00\">55,752</span> (217.78 KB)\n",
       "</pre>\n"
      ],
      "text/plain": [
       "\u001b[1m Total params: \u001b[0m\u001b[38;5;34m55,752\u001b[0m (217.78 KB)\n"
      ]
     },
     "metadata": {},
     "output_type": "display_data"
    },
    {
     "data": {
      "text/html": [
       "<pre style=\"white-space:pre;overflow-x:auto;line-height:normal;font-family:Menlo,'DejaVu Sans Mono',consolas,'Courier New',monospace\"><span style=\"font-weight: bold\"> Trainable params: </span><span style=\"color: #00af00; text-decoration-color: #00af00\">55,752</span> (217.78 KB)\n",
       "</pre>\n"
      ],
      "text/plain": [
       "\u001b[1m Trainable params: \u001b[0m\u001b[38;5;34m55,752\u001b[0m (217.78 KB)\n"
      ]
     },
     "metadata": {},
     "output_type": "display_data"
    },
    {
     "data": {
      "text/html": [
       "<pre style=\"white-space:pre;overflow-x:auto;line-height:normal;font-family:Menlo,'DejaVu Sans Mono',consolas,'Courier New',monospace\"><span style=\"font-weight: bold\"> Non-trainable params: </span><span style=\"color: #00af00; text-decoration-color: #00af00\">0</span> (0.00 B)\n",
       "</pre>\n"
      ],
      "text/plain": [
       "\u001b[1m Non-trainable params: \u001b[0m\u001b[38;5;34m0\u001b[0m (0.00 B)\n"
      ]
     },
     "metadata": {},
     "output_type": "display_data"
    }
   ],
   "source": [
    "# ====================================================================================\n",
    "# SECTION C – MODEL ARCHITECTURE & COMPILATION\n",
    "# ====================================================================================\n",
    "\n",
    "print(\"\\nStep 3: Model Construction\")\n",
    "\n",
    "# Q3.1 Construct a deep neural network using TensorFlow Keras with the following specifications:\n",
    "#        - Input layer: matching the number of input features.\n",
    "#        - First Dense layer: 256 units, ReLU activation\n",
    "#        - Dropout layer: dropout rate of 0.4.\n",
    "#        - Second Dense layer: 128 units, ReLU activation\n",
    "#        - Dropout layer: dropout rate of 0.3.\n",
    "#        - Third Dense layer: 64 units, ReLU activation.\n",
    "#        - Output layer: 7 units, Softmax activation.\n",
    "\n",
    "from tensorflow.keras.models import Sequential\n",
    "from tensorflow.keras.layers import Dense, Dropout\n",
    "\n",
    "model = Sequential()\n",
    "model.add(Dense(256, activation='relu', input_dim= X_train.shape[1]))\n",
    "model.add(Dropout(0.4))\n",
    "model.add(Dense(128, activation='relu'))\n",
    "model.add(Dropout(0.3))\n",
    "model.add(Dense(64, activation='relu'))\n",
    "model.add(Dense(8, activation='softmax'))\n",
    "\n",
    "#\n",
    "# Q3.2 Compile the model using:\n",
    "#        - Optimizer\n",
    "#        - Loss function\n",
    "#        - Metrics\n",
    "\n",
    "model.compile(optimizer='adam', loss='sparse_categorical_crossentropy', metrics=['accuracy'])\n",
    "\n",
    "# Q3.3 Display the model summary.\n",
    "model.summary()"
   ]
  },
  {
   "cell_type": "code",
   "execution_count": null,
   "id": "529abb23-d92c-4ff8-9d99-ddeb3b9dd9b1",
   "metadata": {},
   "outputs": [],
   "source": []
  },
  {
   "cell_type": "code",
   "execution_count": 82,
   "id": "7b805e6d-ab41-4633-b99a-cef44422a61c",
   "metadata": {},
   "outputs": [
    {
     "name": "stdout",
     "output_type": "stream",
     "text": [
      "\n",
      "Step 4: Model Training with Early Stopping\n",
      "Epoch 1/100\n",
      "10894/10894 - 66s - 6ms/step - accuracy: 0.7357 - loss: 0.6166 - val_accuracy: 0.7834 - val_loss: 0.5032\n",
      "Epoch 2/100\n",
      "10894/10894 - 80s - 7ms/step - accuracy: 0.7747 - loss: 0.5285 - val_accuracy: 0.8098 - val_loss: 0.4575\n",
      "Epoch 3/100\n",
      "10894/10894 - 74s - 7ms/step - accuracy: 0.7896 - loss: 0.4964 - val_accuracy: 0.8272 - val_loss: 0.4237\n",
      "Epoch 4/100\n",
      "10894/10894 - 70s - 6ms/step - accuracy: 0.7979 - loss: 0.4786 - val_accuracy: 0.8289 - val_loss: 0.4084\n",
      "Epoch 5/100\n",
      "10894/10894 - 64s - 6ms/step - accuracy: 0.8041 - loss: 0.4656 - val_accuracy: 0.8334 - val_loss: 0.3981\n",
      "Epoch 6/100\n",
      "10894/10894 - 63s - 6ms/step - accuracy: 0.8090 - loss: 0.4573 - val_accuracy: 0.8406 - val_loss: 0.3858\n",
      "Epoch 7/100\n",
      "10894/10894 - 62s - 6ms/step - accuracy: 0.8122 - loss: 0.4495 - val_accuracy: 0.8406 - val_loss: 0.3798\n",
      "Epoch 8/100\n",
      "10894/10894 - 63s - 6ms/step - accuracy: 0.8149 - loss: 0.4447 - val_accuracy: 0.8478 - val_loss: 0.3752\n",
      "Epoch 9/100\n",
      "10894/10894 - 83s - 8ms/step - accuracy: 0.8173 - loss: 0.4381 - val_accuracy: 0.8506 - val_loss: 0.3630\n",
      "Epoch 10/100\n",
      "10894/10894 - 64s - 6ms/step - accuracy: 0.8208 - loss: 0.4318 - val_accuracy: 0.8532 - val_loss: 0.3608\n",
      "Epoch 11/100\n",
      "10894/10894 - 82s - 8ms/step - accuracy: 0.8227 - loss: 0.4284 - val_accuracy: 0.8576 - val_loss: 0.3530\n",
      "Epoch 12/100\n",
      "10894/10894 - 82s - 7ms/step - accuracy: 0.8241 - loss: 0.4242 - val_accuracy: 0.8573 - val_loss: 0.3472\n",
      "Epoch 13/100\n",
      "10894/10894 - 129s - 12ms/step - accuracy: 0.8264 - loss: 0.4200 - val_accuracy: 0.8596 - val_loss: 0.3487\n",
      "Epoch 14/100\n",
      "10894/10894 - 88s - 8ms/step - accuracy: 0.8266 - loss: 0.4180 - val_accuracy: 0.8625 - val_loss: 0.3458\n",
      "Epoch 15/100\n",
      "10894/10894 - 81s - 7ms/step - accuracy: 0.8273 - loss: 0.4153 - val_accuracy: 0.8612 - val_loss: 0.3375\n",
      "Epoch 16/100\n",
      "10894/10894 - 64s - 6ms/step - accuracy: 0.8293 - loss: 0.4127 - val_accuracy: 0.8639 - val_loss: 0.3356\n",
      "Epoch 17/100\n",
      "10894/10894 - 64s - 6ms/step - accuracy: 0.8310 - loss: 0.4089 - val_accuracy: 0.8642 - val_loss: 0.3339\n",
      "Epoch 18/100\n",
      "10894/10894 - 257s - 24ms/step - accuracy: 0.8324 - loss: 0.4080 - val_accuracy: 0.8690 - val_loss: 0.3271\n",
      "Epoch 19/100\n",
      "10894/10894 - 62s - 6ms/step - accuracy: 0.8330 - loss: 0.4061 - val_accuracy: 0.8690 - val_loss: 0.3289\n",
      "Epoch 20/100\n",
      "10894/10894 - 62s - 6ms/step - accuracy: 0.8332 - loss: 0.4037 - val_accuracy: 0.8692 - val_loss: 0.3291\n"
     ]
    },
    {
     "data": {
      "text/plain": [
       "<keras.src.callbacks.history.History at 0x2b38d636de0>"
      ]
     },
     "execution_count": 82,
     "metadata": {},
     "output_type": "execute_result"
    }
   ],
   "source": [
    "# ====================================================================================\n",
    "# SECTION D – EARLY STOPPING & TRAINING\n",
    "# ====================================================================================\n",
    "print(\"\\nStep 4: Model Training with Early Stopping\")\n",
    "\n",
    "# Q4.1 Define an EarlyStopping callback with the following parameters:\n",
    "#        - Monitor\n",
    "#        - Patience\n",
    "#        - Restore best weights\n",
    "\n",
    "from tensorflow.keras.callbacks import EarlyStopping\n",
    "early_stp = EarlyStopping(monitor='val_loss', patience=2, restore_best_weights=True)\n",
    "\n",
    "# Q4.2 Train the model using:\n",
    "#        - Epochs\n",
    "#        - Batch size\n",
    "#        - Validation split\n",
    "#        - Verbose\n",
    "#        - Include the EarlyStopping callback during training\n",
    "\n",
    "model.fit(X_train, y_train, epochs=100, batch_size=32, callbacks=early_stp, validation_split=0.2, verbose=2)"
   ]
  },
  {
   "cell_type": "code",
   "execution_count": 104,
   "id": "0c7b505d-d13f-43f5-bd36-d442ae6227b7",
   "metadata": {},
   "outputs": [
    {
     "name": "stdout",
     "output_type": "stream",
     "text": [
      "\n",
      "Step 5: Model Evaluation\n",
      "\n",
      "Step 6: Prediction & Performance Reporting\n",
      "[5 2 1 ... 2 3 2]\n",
      "              precision    recall  f1-score   support\n",
      "\n",
      "           1       0.89      0.85      0.87     53110\n",
      "           2       0.88      0.92      0.90     70628\n",
      "           3       0.81      0.85      0.83      8905\n",
      "           4       0.90      0.57      0.70       718\n",
      "           5       0.72      0.55      0.62      2296\n",
      "           6       0.67      0.67      0.67      4395\n",
      "           7       0.87      0.84      0.86      5201\n",
      "\n",
      "    accuracy                           0.87    145253\n",
      "   macro avg       0.82      0.75      0.78    145253\n",
      "weighted avg       0.87      0.87      0.87    145253\n",
      "\n",
      "\n",
      "========== END OF TEST ==========\n"
     ]
    }
   ],
   "source": [
    "# ====================================================================================\n",
    "# SECTION E – EVALUATION & PREDICTION\n",
    "# ====================================================================================\n",
    "\n",
    "print(\"\\nStep 5: Model Evaluation\")\n",
    "\n",
    "# Q5.1 Evaluate the model on the test dataset.\n",
    "#        - Print the final test accuracy and test loss (formatted to 4 decimal places).\n",
    "\n",
    "print()\n",
    "\n",
    "\n",
    "\n",
    "\n",
    "print(\"\\nStep 6: Prediction & Performance Reporting\")\n",
    "\n",
    "# Q6.1 Predict class probabilities for the test set using the trained model.\n",
    "# Q6.2 Convert predicted probabilities into final class labels using appropriate logic.\n",
    "# Q6.3 Print a classification report using sklearn that includes:\n",
    "#        - Precision, Recall, F1-score, and Support for all classes.\n",
    "import numpy as np\n",
    "\n",
    "y_pred = model.predict(X_test)\n",
    "y_pred = np.argmax(y_pred, axis=1)\n",
    "print(y_pred)\n",
    "\n",
    "from sklearn.metrics import classification_report\n",
    "print(classification_report(y_test, y_pred))\n",
    "# ====================================================================================\n",
    "# END OF PRACTICAL ASSESSMENT\n",
    "# ====================================================================================\n",
    "\n",
    "print(\"\\n========== END OF TEST ==========\")"
   ]
  },
  {
   "cell_type": "code",
   "execution_count": null,
   "id": "96aefc07-88a2-4f20-a73b-3d6dff467adb",
   "metadata": {},
   "outputs": [],
   "source": []
  },
  {
   "cell_type": "code",
   "execution_count": null,
   "id": "b96f6087-8cfa-430c-a8eb-463813cd5e1e",
   "metadata": {},
   "outputs": [],
   "source": []
  },
  {
   "cell_type": "code",
   "execution_count": null,
   "id": "5f4d9623-e721-49f2-83e8-d66be185e936",
   "metadata": {},
   "outputs": [],
   "source": []
  }
 ],
 "metadata": {
  "kernelspec": {
   "display_name": "Python [conda env:base] *",
   "language": "python",
   "name": "conda-base-py"
  },
  "language_info": {
   "codemirror_mode": {
    "name": "ipython",
    "version": 3
   },
   "file_extension": ".py",
   "mimetype": "text/x-python",
   "name": "python",
   "nbconvert_exporter": "python",
   "pygments_lexer": "ipython3",
   "version": "3.12.7"
  }
 },
 "nbformat": 4,
 "nbformat_minor": 5
}
